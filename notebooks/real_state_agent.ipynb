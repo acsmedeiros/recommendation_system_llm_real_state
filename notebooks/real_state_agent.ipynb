{
 "cells": [
  {
   "cell_type": "markdown",
   "metadata": {},
   "source": [
    "# Exploratory Analysis of a Real State Dataset"
   ]
  },
  {
   "cell_type": "markdown",
   "metadata": {},
   "source": [
    "Dataset: https://www.kaggle.com/datasets/shudhanshusingh/real-estate-properties-dataset/data"
   ]
  },
  {
   "cell_type": "code",
   "execution_count": 1,
   "metadata": {},
   "outputs": [],
   "source": [
    "import pandas as pd\n",
    "import seaborn as sns\n",
    "import matplotlib.pyplot as plt"
   ]
  },
  {
   "cell_type": "code",
   "execution_count": 2,
   "metadata": {},
   "outputs": [],
   "source": [
    "properties_df = pd.read_csv('../dataset/properties.csv', low_memory=False)"
   ]
  },
  {
   "cell_type": "code",
   "execution_count": 3,
   "metadata": {},
   "outputs": [
    {
     "data": {
      "text/plain": [
       "12685"
      ]
     },
     "execution_count": 3,
     "metadata": {},
     "output_type": "execute_result"
    }
   ],
   "source": [
    "properties_df.shape[0]"
   ]
  },
  {
   "cell_type": "code",
   "execution_count": 4,
   "metadata": {},
   "outputs": [
    {
     "data": {
      "text/html": [
       "<div>\n",
       "<style scoped>\n",
       "    .dataframe tbody tr th:only-of-type {\n",
       "        vertical-align: middle;\n",
       "    }\n",
       "\n",
       "    .dataframe tbody tr th {\n",
       "        vertical-align: top;\n",
       "    }\n",
       "\n",
       "    .dataframe thead th {\n",
       "        text-align: right;\n",
       "    }\n",
       "</style>\n",
       "<table border=\"1\" class=\"dataframe\">\n",
       "  <thead>\n",
       "    <tr style=\"text-align: right;\">\n",
       "      <th></th>\n",
       "      <th>ID</th>\n",
       "      <th>Units Available</th>\n",
       "      <th>Price</th>\n",
       "      <th>Maintenance Charges</th>\n",
       "      <th>Booking Amount</th>\n",
       "      <th>Covered Area</th>\n",
       "      <th>sqft Price</th>\n",
       "      <th>Carpet Area</th>\n",
       "      <th>Bathroom</th>\n",
       "      <th>bedroom</th>\n",
       "      <th>...</th>\n",
       "      <th>Meditation Area</th>\n",
       "      <th>Multipurpose Courts</th>\n",
       "      <th>Recreational Pool</th>\n",
       "      <th>Rentable CommuniPfty Space</th>\n",
       "      <th>Retail Boulevard (Retail Shops)</th>\n",
       "      <th>Cycling &amp; Jogging Track</th>\n",
       "      <th>Fire Fighting Equipment</th>\n",
       "      <th>Aesthetically designed landscape garden</th>\n",
       "      <th>Land Area / Covered Area</th>\n",
       "      <th>Land Area Unit</th>\n",
       "    </tr>\n",
       "  </thead>\n",
       "  <tbody>\n",
       "    <tr>\n",
       "      <th>count</th>\n",
       "      <td>12685.000000</td>\n",
       "      <td>6135.000000</td>\n",
       "      <td>1.260100e+04</td>\n",
       "      <td>6.283000e+03</td>\n",
       "      <td>7.701000e+03</td>\n",
       "      <td>11374.000000</td>\n",
       "      <td>1.148000e+04</td>\n",
       "      <td>10133.000000</td>\n",
       "      <td>12616.000000</td>\n",
       "      <td>12685.000000</td>\n",
       "      <td>...</td>\n",
       "      <td>12685.000000</td>\n",
       "      <td>12685.000000</td>\n",
       "      <td>12685.000000</td>\n",
       "      <td>12685.000000</td>\n",
       "      <td>12685.000000</td>\n",
       "      <td>12685.000000</td>\n",
       "      <td>12685.000000</td>\n",
       "      <td>12685.000000</td>\n",
       "      <td>84.000000</td>\n",
       "      <td>86.000000</td>\n",
       "    </tr>\n",
       "    <tr>\n",
       "      <th>mean</th>\n",
       "      <td>6343.000000</td>\n",
       "      <td>7.751589</td>\n",
       "      <td>2.640261e+07</td>\n",
       "      <td>9.076812e+03</td>\n",
       "      <td>8.101702e+05</td>\n",
       "      <td>1037.746439</td>\n",
       "      <td>2.243507e+04</td>\n",
       "      <td>819.201224</td>\n",
       "      <td>2.143389</td>\n",
       "      <td>1.987150</td>\n",
       "      <td>...</td>\n",
       "      <td>0.540402</td>\n",
       "      <td>0.540323</td>\n",
       "      <td>0.536539</td>\n",
       "      <td>0.536855</td>\n",
       "      <td>0.537958</td>\n",
       "      <td>0.540166</td>\n",
       "      <td>0.544028</td>\n",
       "      <td>0.536382</td>\n",
       "      <td>7248.869048</td>\n",
       "      <td>12847.825581</td>\n",
       "    </tr>\n",
       "    <tr>\n",
       "      <th>std</th>\n",
       "      <td>3661.988417</td>\n",
       "      <td>26.335448</td>\n",
       "      <td>3.653648e+08</td>\n",
       "      <td>2.399983e+05</td>\n",
       "      <td>2.997549e+06</td>\n",
       "      <td>727.327389</td>\n",
       "      <td>3.187654e+05</td>\n",
       "      <td>585.037811</td>\n",
       "      <td>0.926965</td>\n",
       "      <td>0.943404</td>\n",
       "      <td>...</td>\n",
       "      <td>0.498385</td>\n",
       "      <td>0.498391</td>\n",
       "      <td>0.498683</td>\n",
       "      <td>0.498660</td>\n",
       "      <td>0.498577</td>\n",
       "      <td>0.498404</td>\n",
       "      <td>0.498077</td>\n",
       "      <td>0.498694</td>\n",
       "      <td>18240.893916</td>\n",
       "      <td>10.643078</td>\n",
       "    </tr>\n",
       "    <tr>\n",
       "      <th>min</th>\n",
       "      <td>1.000000</td>\n",
       "      <td>0.000000</td>\n",
       "      <td>1.000000e+05</td>\n",
       "      <td>0.000000e+00</td>\n",
       "      <td>0.000000e+00</td>\n",
       "      <td>10.000000</td>\n",
       "      <td>0.000000e+00</td>\n",
       "      <td>2.000000</td>\n",
       "      <td>1.000000</td>\n",
       "      <td>1.000000</td>\n",
       "      <td>...</td>\n",
       "      <td>0.000000</td>\n",
       "      <td>0.000000</td>\n",
       "      <td>0.000000</td>\n",
       "      <td>0.000000</td>\n",
       "      <td>0.000000</td>\n",
       "      <td>0.000000</td>\n",
       "      <td>0.000000</td>\n",
       "      <td>0.000000</td>\n",
       "      <td>1.000000</td>\n",
       "      <td>12800.000000</td>\n",
       "    </tr>\n",
       "    <tr>\n",
       "      <th>25%</th>\n",
       "      <td>3172.000000</td>\n",
       "      <td>0.000000</td>\n",
       "      <td>7.000000e+06</td>\n",
       "      <td>1.000000e+01</td>\n",
       "      <td>1.000000e+05</td>\n",
       "      <td>605.500000</td>\n",
       "      <td>1.000000e+04</td>\n",
       "      <td>468.000000</td>\n",
       "      <td>2.000000</td>\n",
       "      <td>1.000000</td>\n",
       "      <td>...</td>\n",
       "      <td>0.000000</td>\n",
       "      <td>0.000000</td>\n",
       "      <td>0.000000</td>\n",
       "      <td>0.000000</td>\n",
       "      <td>0.000000</td>\n",
       "      <td>0.000000</td>\n",
       "      <td>0.000000</td>\n",
       "      <td>0.000000</td>\n",
       "      <td>792.500000</td>\n",
       "      <td>12850.000000</td>\n",
       "    </tr>\n",
       "    <tr>\n",
       "      <th>50%</th>\n",
       "      <td>6343.000000</td>\n",
       "      <td>1.000000</td>\n",
       "      <td>1.350000e+07</td>\n",
       "      <td>2.500000e+03</td>\n",
       "      <td>5.000000e+05</td>\n",
       "      <td>850.000000</td>\n",
       "      <td>1.634850e+04</td>\n",
       "      <td>671.000000</td>\n",
       "      <td>2.000000</td>\n",
       "      <td>2.000000</td>\n",
       "      <td>...</td>\n",
       "      <td>1.000000</td>\n",
       "      <td>1.000000</td>\n",
       "      <td>1.000000</td>\n",
       "      <td>1.000000</td>\n",
       "      <td>1.000000</td>\n",
       "      <td>1.000000</td>\n",
       "      <td>1.000000</td>\n",
       "      <td>1.000000</td>\n",
       "      <td>2000.000000</td>\n",
       "      <td>12850.000000</td>\n",
       "    </tr>\n",
       "    <tr>\n",
       "      <th>75%</th>\n",
       "      <td>9514.000000</td>\n",
       "      <td>5.000000</td>\n",
       "      <td>2.550000e+07</td>\n",
       "      <td>6.000000e+03</td>\n",
       "      <td>9.000000e+05</td>\n",
       "      <td>1200.000000</td>\n",
       "      <td>2.461500e+04</td>\n",
       "      <td>950.000000</td>\n",
       "      <td>2.000000</td>\n",
       "      <td>3.000000</td>\n",
       "      <td>...</td>\n",
       "      <td>1.000000</td>\n",
       "      <td>1.000000</td>\n",
       "      <td>1.000000</td>\n",
       "      <td>1.000000</td>\n",
       "      <td>1.000000</td>\n",
       "      <td>1.000000</td>\n",
       "      <td>1.000000</td>\n",
       "      <td>1.000000</td>\n",
       "      <td>3392.500000</td>\n",
       "      <td>12850.000000</td>\n",
       "    </tr>\n",
       "    <tr>\n",
       "      <th>max</th>\n",
       "      <td>12685.000000</td>\n",
       "      <td>750.000000</td>\n",
       "      <td>4.080000e+10</td>\n",
       "      <td>1.768000e+07</td>\n",
       "      <td>1.050000e+08</td>\n",
       "      <td>15006.000000</td>\n",
       "      <td>3.400000e+07</td>\n",
       "      <td>20870.000000</td>\n",
       "      <td>10.000000</td>\n",
       "      <td>6.000000</td>\n",
       "      <td>...</td>\n",
       "      <td>1.000000</td>\n",
       "      <td>1.000000</td>\n",
       "      <td>1.000000</td>\n",
       "      <td>1.000000</td>\n",
       "      <td>1.000000</td>\n",
       "      <td>1.000000</td>\n",
       "      <td>1.000000</td>\n",
       "      <td>1.000000</td>\n",
       "      <td>100000.000000</td>\n",
       "      <td>12853.000000</td>\n",
       "    </tr>\n",
       "  </tbody>\n",
       "</table>\n",
       "<p>8 rows × 105 columns</p>\n",
       "</div>"
      ],
      "text/plain": [
       "                 ID  Units Available         Price  Maintenance Charges  \\\n",
       "count  12685.000000      6135.000000  1.260100e+04         6.283000e+03   \n",
       "mean    6343.000000         7.751589  2.640261e+07         9.076812e+03   \n",
       "std     3661.988417        26.335448  3.653648e+08         2.399983e+05   \n",
       "min        1.000000         0.000000  1.000000e+05         0.000000e+00   \n",
       "25%     3172.000000         0.000000  7.000000e+06         1.000000e+01   \n",
       "50%     6343.000000         1.000000  1.350000e+07         2.500000e+03   \n",
       "75%     9514.000000         5.000000  2.550000e+07         6.000000e+03   \n",
       "max    12685.000000       750.000000  4.080000e+10         1.768000e+07   \n",
       "\n",
       "       Booking Amount  Covered Area   sqft Price    Carpet Area      Bathroom  \\\n",
       "count    7.701000e+03  11374.000000  1.148000e+04  10133.000000  12616.000000   \n",
       "mean     8.101702e+05   1037.746439  2.243507e+04    819.201224      2.143389   \n",
       "std      2.997549e+06    727.327389  3.187654e+05    585.037811      0.926965   \n",
       "min      0.000000e+00     10.000000  0.000000e+00      2.000000      1.000000   \n",
       "25%      1.000000e+05    605.500000  1.000000e+04    468.000000      2.000000   \n",
       "50%      5.000000e+05    850.000000  1.634850e+04    671.000000      2.000000   \n",
       "75%      9.000000e+05   1200.000000  2.461500e+04    950.000000      2.000000   \n",
       "max      1.050000e+08  15006.000000  3.400000e+07  20870.000000     10.000000   \n",
       "\n",
       "            bedroom  ...  Meditation Area  Multipurpose Courts  \\\n",
       "count  12685.000000  ...     12685.000000         12685.000000   \n",
       "mean       1.987150  ...         0.540402             0.540323   \n",
       "std        0.943404  ...         0.498385             0.498391   \n",
       "min        1.000000  ...         0.000000             0.000000   \n",
       "25%        1.000000  ...         0.000000             0.000000   \n",
       "50%        2.000000  ...         1.000000             1.000000   \n",
       "75%        3.000000  ...         1.000000             1.000000   \n",
       "max        6.000000  ...         1.000000             1.000000   \n",
       "\n",
       "       Recreational Pool  Rentable CommuniPfty Space  \\\n",
       "count       12685.000000                12685.000000   \n",
       "mean            0.536539                    0.536855   \n",
       "std             0.498683                    0.498660   \n",
       "min             0.000000                    0.000000   \n",
       "25%             0.000000                    0.000000   \n",
       "50%             1.000000                    1.000000   \n",
       "75%             1.000000                    1.000000   \n",
       "max             1.000000                    1.000000   \n",
       "\n",
       "       Retail Boulevard (Retail Shops)  Cycling & Jogging Track  \\\n",
       "count                     12685.000000             12685.000000   \n",
       "mean                          0.537958                 0.540166   \n",
       "std                           0.498577                 0.498404   \n",
       "min                           0.000000                 0.000000   \n",
       "25%                           0.000000                 0.000000   \n",
       "50%                           1.000000                 1.000000   \n",
       "75%                           1.000000                 1.000000   \n",
       "max                           1.000000                 1.000000   \n",
       "\n",
       "       Fire Fighting Equipment  Aesthetically designed landscape garden  \\\n",
       "count             12685.000000                             12685.000000   \n",
       "mean                  0.544028                                 0.536382   \n",
       "std                   0.498077                                 0.498694   \n",
       "min                   0.000000                                 0.000000   \n",
       "25%                   0.000000                                 0.000000   \n",
       "50%                   1.000000                                 1.000000   \n",
       "75%                   1.000000                                 1.000000   \n",
       "max                   1.000000                                 1.000000   \n",
       "\n",
       "       Land Area / Covered Area  Land Area Unit  \n",
       "count                 84.000000       86.000000  \n",
       "mean                7248.869048    12847.825581  \n",
       "std                18240.893916       10.643078  \n",
       "min                    1.000000    12800.000000  \n",
       "25%                  792.500000    12850.000000  \n",
       "50%                 2000.000000    12850.000000  \n",
       "75%                 3392.500000    12850.000000  \n",
       "max               100000.000000    12853.000000  \n",
       "\n",
       "[8 rows x 105 columns]"
      ]
     },
     "execution_count": 4,
     "metadata": {},
     "output_type": "execute_result"
    }
   ],
   "source": [
    "properties_df.describe()"
   ]
  },
  {
   "cell_type": "code",
   "execution_count": 5,
   "metadata": {},
   "outputs": [
    {
     "data": {
      "text/plain": [
       "145"
      ]
     },
     "execution_count": 5,
     "metadata": {},
     "output_type": "execute_result"
    }
   ],
   "source": [
    "len(properties_df.columns)"
   ]
  },
  {
   "cell_type": "code",
   "execution_count": 6,
   "metadata": {},
   "outputs": [
    {
     "data": {
      "text/plain": [
       "['ID',\n",
       " 'Possession Status',\n",
       " 'Availability Starts From',\n",
       " 'Floor No',\n",
       " 'Commercial',\n",
       " 'Developer',\n",
       " 'Approved Authority Name',\n",
       " 'Units Available',\n",
       " 'Price',\n",
       " 'Price (English)',\n",
       " 'Flooring Type',\n",
       " 'Electricity Status',\n",
       " 'Maintenance Type',\n",
       " 'Maintenance Charges',\n",
       " 'Booking Amount',\n",
       " 'Landmark',\n",
       " 'Covered Area',\n",
       " 'Project Name',\n",
       " 'sqft Price ',\n",
       " 'Carpet Area',\n",
       " 'Area Name',\n",
       " 'Property Uniqueness',\n",
       " 'Unit of Carpet Area',\n",
       " 'Society',\n",
       " 'Ownership Type',\n",
       " 'furnished Type',\n",
       " 'Bathroom',\n",
       " 'Parking',\n",
       " 'Facing',\n",
       " 'Amenities Facing',\n",
       " 'Transaction Type',\n",
       " 'Floor Data',\n",
       " 'Type of Property',\n",
       " 'City',\n",
       " 'bedroom',\n",
       " 'Data Referred From',\n",
       " 'floors',\n",
       " 'Water Status',\n",
       " 'Luxury Flat',\n",
       " 'Covered Area.1',\n",
       " 'Carpet Area Unit',\n",
       " 'isPrimeLocationProperty',\n",
       " 'Tenants Preference',\n",
       " 'Location',\n",
       " 'Property',\n",
       " 'covArea Unit',\n",
       " 'isLuxuryServiceProvided',\n",
       " 'Property Lifespan',\n",
       " 'balconies',\n",
       " 'Rera',\n",
       " 'Power Back Up',\n",
       " 'Lift',\n",
       " 'Rain Water Harvesting',\n",
       " 'Club House',\n",
       " 'Swimming Pool',\n",
       " 'Gymnasium',\n",
       " 'Park',\n",
       " 'Parking.1',\n",
       " 'Security',\n",
       " 'Water Storage',\n",
       " 'Private Terrace/Garden',\n",
       " 'Vaastu Compliant',\n",
       " 'Service/Goods Lift',\n",
       " 'Air Conditioned',\n",
       " 'Visitor Parking',\n",
       " 'Intercom Facility',\n",
       " 'Maintenance Staff',\n",
       " 'Waste Disposal',\n",
       " 'Laundry Service',\n",
       " 'Internet/Wi-Fi Connectivity',\n",
       " 'DTH Television Facility',\n",
       " 'RO Water System',\n",
       " 'Banquet Hall',\n",
       " 'Bar/Lounge',\n",
       " 'Cafeteria/Food Court',\n",
       " 'Conference Room',\n",
       " 'Piped Gas',\n",
       " 'Jogging and Strolling Track',\n",
       " 'Outdoor Tennis Courts',\n",
       " 'Mansion',\n",
       " 'Downtown',\n",
       " 'Skyline View',\n",
       " 'Wrap Around Balcony',\n",
       " 'Island Kitchen Layout',\n",
       " 'Full Glass Wall',\n",
       " 'House help accommodation',\n",
       " 'Concierge Services',\n",
       " 'Garden View',\n",
       " 'Marble flooring',\n",
       " 'Well Furnished',\n",
       " 'Modular Kitchen',\n",
       " 'Helipad',\n",
       " 'Private pool ',\n",
       " 'Private Jaccuzi',\n",
       " 'Mini Cinema Theatre',\n",
       " 'Golf Course',\n",
       " 'Infinity Swimming Pool',\n",
       " 'Pool with temperature control ',\n",
       " 'Sea facing',\n",
       " 'Skydeck',\n",
       " 'Earth quake resistant',\n",
       " 'Theme based Architectures',\n",
       " 'Health club with Steam / Jaccuzi',\n",
       " 'Large Clubhouse ',\n",
       " 'Large Open space',\n",
       " 'Fingerprint Access',\n",
       " 'Grand Entrance lobby',\n",
       " 'Private Garage',\n",
       " 'Fireplace',\n",
       " 'Wine Cellar',\n",
       " 'Sky Villa',\n",
       " 'Water Front',\n",
       " 'Hilltop',\n",
       " 'Smart Home',\n",
       " 'Barbeque space',\n",
       " 'Kids play area',\n",
       " 'Library',\n",
       " 'Puja Room',\n",
       " 'Study',\n",
       " 'Servant Room',\n",
       " 'Store',\n",
       " 'Aerobics Room',\n",
       " 'Canopy Walk',\n",
       " 'Coffee Lounge & Restaurants',\n",
       " 'Dance Studio',\n",
       " 'Event Space & Amphitheatre',\n",
       " 'Flower Gardens',\n",
       " 'Guest Accommodation',\n",
       " 'Indoor Squash & Badminton Courts',\n",
       " 'Kids Play Area',\n",
       " 'Kids Play Pool With Water Slides',\n",
       " 'Library And Business Centre',\n",
       " 'Meditation Area',\n",
       " 'Multipurpose Courts',\n",
       " 'Recreational Pool',\n",
       " 'Rentable CommuniPfty Space',\n",
       " 'Retail Boulevard (Retail Shops)',\n",
       " 'Cycling & Jogging Track',\n",
       " 'Fire Fighting Equipment',\n",
       " 'Aesthetically designed landscape garden',\n",
       " 'Possession By',\n",
       " 'NRI Pref',\n",
       " 'Land Area / Covered Area',\n",
       " 'Land Area Unit',\n",
       " 'Pantry Type']"
      ]
     },
     "execution_count": 6,
     "metadata": {},
     "output_type": "execute_result"
    }
   ],
   "source": [
    "properties_df.columns.to_list()"
   ]
  },
  {
   "cell_type": "markdown",
   "metadata": {
    "vscode": {
     "languageId": "raw"
    }
   },
   "source": [
    "## What are types of properties on this dataset?"
   ]
  },
  {
   "cell_type": "code",
   "execution_count": 8,
   "metadata": {},
   "outputs": [
    {
     "data": {
      "image/png": "[encoded data removed]",
      "text/plain": [
       "<Figure size 1500x300 with 1 Axes>"
      ]
     },
     "metadata": {},
     "output_type": "display_data"
    }
   ],
   "source": [
    "plt.figure(figsize=(15,3))\n",
    "sns.countplot(x='Type of Property', data=properties_df)\n",
    "plt.title('Distribution of Type of Property')\n",
    "plt.show()"
   ]
  },
  {
   "cell_type": "markdown",
   "metadata": {},
   "source": [
    "## Where are most of the units located?"
   ]
  },
  {
   "cell_type": "code",
   "execution_count": 9,
   "metadata": {},
   "outputs": [],
   "source": [
    "count_df = properties_df.groupby('Location').size().reset_index(name='count')"
   ]
  },
  {
   "cell_type": "code",
   "execution_count": 10,
   "metadata": {},
   "outputs": [
    {
     "data": {
      "text/html": [
       "<div>\n",
       "<style scoped>\n",
       "    .dataframe tbody tr th:only-of-type {\n",
       "        vertical-align: middle;\n",
       "    }\n",
       "\n",
       "    .dataframe tbody tr th {\n",
       "        vertical-align: top;\n",
       "    }\n",
       "\n",
       "    .dataframe thead th {\n",
       "        text-align: right;\n",
       "    }\n",
       "</style>\n",
       "<table border=\"1\" class=\"dataframe\">\n",
       "  <thead>\n",
       "    <tr style=\"text-align: right;\">\n",
       "      <th></th>\n",
       "      <th>Location</th>\n",
       "      <th>count</th>\n",
       "    </tr>\n",
       "  </thead>\n",
       "  <tbody>\n",
       "    <tr>\n",
       "      <th>90</th>\n",
       "      <td>Dombivli East, Thane</td>\n",
       "      <td>674</td>\n",
       "    </tr>\n",
       "    <tr>\n",
       "      <th>15</th>\n",
       "      <td>Andheri West, Mumbai</td>\n",
       "      <td>488</td>\n",
       "    </tr>\n",
       "    <tr>\n",
       "      <th>202</th>\n",
       "      <td>Malad East, Mumbai</td>\n",
       "      <td>460</td>\n",
       "    </tr>\n",
       "    <tr>\n",
       "      <th>324</th>\n",
       "      <td>Thane West, Thane</td>\n",
       "      <td>443</td>\n",
       "    </tr>\n",
       "    <tr>\n",
       "      <th>13</th>\n",
       "      <td>Andheri East, Mumbai</td>\n",
       "      <td>421</td>\n",
       "    </tr>\n",
       "    <tr>\n",
       "      <th>...</th>\n",
       "      <td>...</td>\n",
       "      <td>...</td>\n",
       "    </tr>\n",
       "    <tr>\n",
       "      <th>293</th>\n",
       "      <td>Sham Nagar, Mumbai</td>\n",
       "      <td>1</td>\n",
       "    </tr>\n",
       "    <tr>\n",
       "      <th>147</th>\n",
       "      <td>Kalyan East, Mumbai</td>\n",
       "      <td>1</td>\n",
       "    </tr>\n",
       "    <tr>\n",
       "      <th>151</th>\n",
       "      <td>Kamla Nagar, Mumbai</td>\n",
       "      <td>1</td>\n",
       "    </tr>\n",
       "    <tr>\n",
       "      <th>155</th>\n",
       "      <td>Kandivali West, Nagpur</td>\n",
       "      <td>1</td>\n",
       "    </tr>\n",
       "    <tr>\n",
       "      <th>182</th>\n",
       "      <td>Leo Peter Wadi, Mumbai</td>\n",
       "      <td>1</td>\n",
       "    </tr>\n",
       "  </tbody>\n",
       "</table>\n",
       "<p>365 rows × 2 columns</p>\n",
       "</div>"
      ],
      "text/plain": [
       "                   Location  count\n",
       "90     Dombivli East, Thane    674\n",
       "15     Andheri West, Mumbai    488\n",
       "202      Malad East, Mumbai    460\n",
       "324       Thane West, Thane    443\n",
       "13     Andheri East, Mumbai    421\n",
       "..                      ...    ...\n",
       "293      Sham Nagar, Mumbai      1\n",
       "147     Kalyan East, Mumbai      1\n",
       "151     Kamla Nagar, Mumbai      1\n",
       "155  Kandivali West, Nagpur      1\n",
       "182  Leo Peter Wadi, Mumbai      1\n",
       "\n",
       "[365 rows x 2 columns]"
      ]
     },
     "execution_count": 10,
     "metadata": {},
     "output_type": "execute_result"
    }
   ],
   "source": [
    "count_df.sort_values(by='count', ascending=False)"
   ]
  },
  {
   "cell_type": "code",
   "execution_count": 12,
   "metadata": {},
   "outputs": [],
   "source": [
    "properties_df['City Location'] = properties_df['Location'].fillna('').astype(str).apply(lambda x: x.split(', ')[-1])"
   ]
  },
  {
   "cell_type": "code",
   "execution_count": 14,
   "metadata": {},
   "outputs": [
    {
     "data": {
      "image/png": "[encoded data removed]",
      "text/plain": [
       "<Figure size 1500x300 with 1 Axes>"
      ]
     },
     "metadata": {},
     "output_type": "display_data"
    }
   ],
   "source": [
    "plt.figure(figsize=(15,3))\n",
    "sns.countplot(x='City Location', data=properties_df)\n",
    "plt.title('Distribution of City Location')\n",
    "plt.show()"
   ]
  },
  {
   "cell_type": "markdown",
   "metadata": {},
   "source": [
    "# What is the correlation between Price and other features?"
   ]
  },
  {
   "cell_type": "code",
   "execution_count": 17,
   "metadata": {},
   "outputs": [
    {
     "data": {
      "image/png": "[encoded data removed]",
      "text/plain": [
       "<Figure size 1000x600 with 1 Axes>"
      ]
     },
     "metadata": {},
     "output_type": "display_data"
    }
   ],
   "source": [
    "temp_df = properties_df.dropna(subset=['Price', 'Carpet Area'])\n",
    "\n",
    "\n",
    "plt.figure(figsize=(10, 6))\n",
    "plt.scatter(temp_df['Carpet Area'], temp_df['Price'], alpha=0.5)\n",
    "plt.title('Scatter Plot of Price vs. Carpet Area')\n",
    "plt.xlabel('Carpet Area (square meters)')\n",
    "plt.ylabel('Price')\n",
    "plt.grid(True)\n",
    "plt.show()"
   ]
  },
  {
   "cell_type": "code",
   "execution_count": 16,
   "metadata": {},
   "outputs": [],
   "source": [
    "# removing outliers\n",
    "\n",
    "q1 = temp_df['Price'].quantile(0.25)\n",
    "q3 = temp_df['Price'].quantile(0.75)\n",
    "iqr = q3 - q1 \n",
    "filter = (temp_df['Price'] >= q1 - 1.5 * iqr) & (temp_df['Price'] <= q3 + 1.5 * iqr)\n",
    "temp_df2 = temp_df.loc[filter]"
   ]
  },
  {
   "cell_type": "code",
   "execution_count": 18,
   "metadata": {},
   "outputs": [
    {
     "data": {
      "image/png": "[encoded data removed]",
      "text/plain": [
       "<Figure size 1000x600 with 1 Axes>"
      ]
     },
     "metadata": {},
     "output_type": "display_data"
    }
   ],
   "source": [
    "plt.figure(figsize=(10, 6))\n",
    "plt.scatter(temp_df2['Carpet Area'], temp_df2['Price'], alpha=0.5)\n",
    "plt.title('Scatter Plot of Price vs. Carpet Area')\n",
    "plt.xlabel('Carpet Area (square meters)')\n",
    "plt.ylabel('Price')\n",
    "plt.grid(True)\n",
    "plt.show()"
   ]
  },
  {
   "cell_type": "code",
   "execution_count": null,
   "metadata": {},
   "outputs": [],
   "source": []
  },
  {
   "cell_type": "markdown",
   "metadata": {},
   "source": [
    "# Data Cleaning Checks"
   ]
  },
  {
   "cell_type": "code",
   "execution_count": 19,
   "metadata": {},
   "outputs": [
    {
     "data": {
      "text/plain": [
       "ID                              0\n",
       "Possession Status              78\n",
       "Availability Starts From     9602\n",
       "Floor No                      858\n",
       "Commercial                      0\n",
       "                            ...  \n",
       "NRI Pref                    10668\n",
       "Land Area / Covered Area    12601\n",
       "Land Area Unit              12599\n",
       "Pantry Type                 12620\n",
       "City Location                   0\n",
       "Length: 146, dtype: int64"
      ]
     },
     "execution_count": 19,
     "metadata": {},
     "output_type": "execute_result"
    }
   ],
   "source": [
    "properties_df.isnull().sum()"
   ]
  },
  {
   "cell_type": "code",
   "execution_count": 20,
   "metadata": {},
   "outputs": [
    {
     "data": {
      "text/plain": [
       "ID                            int64\n",
       "Possession Status            object\n",
       "Availability Starts From     object\n",
       "Floor No                     object\n",
       "Commercial                   object\n",
       "                             ...   \n",
       "NRI Pref                     object\n",
       "Land Area / Covered Area    float64\n",
       "Land Area Unit              float64\n",
       "Pantry Type                  object\n",
       "City Location                object\n",
       "Length: 146, dtype: object"
      ]
     },
     "execution_count": 20,
     "metadata": {},
     "output_type": "execute_result"
    }
   ],
   "source": [
    "properties_df.dtypes"
   ]
  },
  {
   "cell_type": "code",
   "execution_count": 21,
   "metadata": {},
   "outputs": [
    {
     "data": {
      "text/plain": [
       "12685"
      ]
     },
     "execution_count": 21,
     "metadata": {},
     "output_type": "execute_result"
    }
   ],
   "source": [
    "properties_df.shape[0]"
   ]
  },
  {
   "cell_type": "code",
   "execution_count": 22,
   "metadata": {},
   "outputs": [],
   "source": [
    "properties_df = properties_df.drop_duplicates()"
   ]
  },
  {
   "cell_type": "code",
   "execution_count": 23,
   "metadata": {},
   "outputs": [
    {
     "data": {
      "text/plain": [
       "12685"
      ]
     },
     "execution_count": 23,
     "metadata": {},
     "output_type": "execute_result"
    }
   ],
   "source": [
    "properties_df.shape[0]"
   ]
  },
  {
   "cell_type": "code",
   "execution_count": 26,
   "metadata": {},
   "outputs": [],
   "source": [
    "cleaned_df = properties_df.drop(['Possession By', 'NRI Pref', 'Land Area / Covered Area', 'Land Area Unit', 'Pantry Type'], axis=1)"
   ]
  },
  {
   "cell_type": "code",
   "execution_count": 27,
   "metadata": {},
   "outputs": [],
   "source": [
    "cleaned_df['Availability Starts From'] = cleaned_df['Availability Starts From'].fillna('Already Available')"
   ]
  },
  {
   "cell_type": "raw",
   "metadata": {
    "vscode": {
     "languageId": "raw"
    }
   },
   "source": [
    "cleaned_df = cleaned_df[['Possession Status', \n",
    "                        'Floor No', \n",
    "                        'Price', \n",
    "                        'Booking Amount',\n",
    "                        'Covered Area',\n",
    "                        'sqft Price ',\n",
    "                        'Carpet Area',\n",
    "                        'Area Name',\n",
    "                        'furnished Type',\n",
    "                        'Bathroom',\n",
    "                        'Facing',\n",
    "                        'Type of Property',\n",
    "                        'floors',\n",
    "                        'Location',\n",
    "                        'Power Back Up',\n",
    "                        'Rain Water Harvesting',\n",
    "                        'Club House',\n",
    "                        'Swimming Pool',\n",
    "                        'Gymnasium',\n",
    "                        'Park',\n",
    "                        'Parking',\n",
    "                        'Security',\n",
    "                        'Water Storage',\n",
    "                        'Private Terrace/Garden',\n",
    "                        'Air Conditioned',\n",
    "                        'Visitor Parking',\n",
    "                        'Waste Disposal',\n",
    "                        'Laundry Service',\n",
    "                        'Internet/Wi-Fi Connectivity',\n",
    "                        'Piped Gas',\n",
    "                        'Downtown',\n",
    "                        'Skyline View',\n",
    "                        'Wrap Around Balcony',\n",
    "                        'Island Kitchen Layout',\n",
    "                        'Garden View',\n",
    "                        'Marble flooring',\n",
    "                        'Helipad',\n",
    "                        'Private pool ',\n",
    "                        'Private Jaccuzi',\n",
    "                        'Golf Course',\n",
    "                        'Sea facing']]"
   ]
  },
  {
   "cell_type": "raw",
   "metadata": {
    "vscode": {
     "languageId": "raw"
    }
   },
   "source": [
    "[col for col in cleaned_df.columns if col.startswith('Sea')]"
   ]
  },
  {
   "cell_type": "markdown",
   "metadata": {},
   "source": []
  },
  {
   "cell_type": "code",
   "execution_count": 28,
   "metadata": {},
   "outputs": [
    {
     "data": {
      "text/plain": [
       "12685"
      ]
     },
     "execution_count": 28,
     "metadata": {},
     "output_type": "execute_result"
    }
   ],
   "source": [
    "cleaned_df.shape[0]"
   ]
  },
  {
   "cell_type": "raw",
   "metadata": {
    "vscode": {
     "languageId": "raw"
    }
   },
   "source": [
    "for col in cleaned_df.columns:\n",
    "    cleaned_df = cleaned_df[~cleaned_df[col].isna()]"
   ]
  },
  {
   "cell_type": "code",
   "execution_count": 29,
   "metadata": {},
   "outputs": [
    {
     "data": {
      "text/plain": [
       "12685"
      ]
     },
     "execution_count": 29,
     "metadata": {},
     "output_type": "execute_result"
    }
   ],
   "source": [
    "cleaned_df.shape[0]"
   ]
  },
  {
   "cell_type": "markdown",
   "metadata": {},
   "source": [
    "Removing outliers using Interquartile Range (IQR) "
   ]
  },
  {
   "cell_type": "code",
   "execution_count": 30,
   "metadata": {},
   "outputs": [],
   "source": [
    "q1 = cleaned_df['Price'].quantile(0.25)\n",
    "q3 = cleaned_df['Price'].quantile(0.75)\n",
    "iqr = q3 - q1 \n",
    "filter = (cleaned_df['Price'] >= q1 - 1.5 * iqr) & (cleaned_df['Price'] <= q3 + 1.5 * iqr)\n",
    "data_cleaned = cleaned_df.loc[filter]"
   ]
  },
  {
   "cell_type": "code",
   "execution_count": 31,
   "metadata": {},
   "outputs": [
    {
     "data": {
      "text/plain": [
       "11324"
      ]
     },
     "execution_count": 31,
     "metadata": {},
     "output_type": "execute_result"
    }
   ],
   "source": [
    "data_cleaned.shape[0]"
   ]
  },
  {
   "cell_type": "markdown",
   "metadata": {},
   "source": [
    "# Dividing data into train, devel and test"
   ]
  },
  {
   "cell_type": "code",
   "execution_count": 32,
   "metadata": {},
   "outputs": [],
   "source": [
    "from sklearn.model_selection import train_test_split"
   ]
  },
  {
   "cell_type": "code",
   "execution_count": 37,
   "metadata": {},
   "outputs": [],
   "source": [
    "full_data = data_cleaned.copy()\n",
    "\n",
    "full_data.dropna(axis=0, subset=['Price'], inplace=True)\n",
    "y = full_data.Price\n",
    "full_data.drop(['Price', 'sqft Price ' ], axis=1, inplace=True)"
   ]
  },
  {
   "cell_type": "code",
   "execution_count": 38,
   "metadata": {},
   "outputs": [
    {
     "data": {
      "text/plain": [
       "139"
      ]
     },
     "execution_count": 38,
     "metadata": {},
     "output_type": "execute_result"
    }
   ],
   "source": [
    "len(full_data.columns)"
   ]
  },
  {
   "cell_type": "code",
   "execution_count": 39,
   "metadata": {},
   "outputs": [],
   "source": [
    "train_valid_data, test_data, y_train_valid, y_test = train_test_split(full_data, y, \n",
    "                                                                train_size=0.8, test_size=0.2,\n",
    "                                                                random_state=42)\n",
    "\n",
    "train_data, valid_data, y_train, y_valid = train_test_split(full_data, y, \n",
    "                                                                train_size=0.75, test_size=0.25,\n",
    "                                                                random_state=42)"
   ]
  },
  {
   "cell_type": "code",
   "execution_count": 40,
   "metadata": {},
   "outputs": [
    {
     "name": "stdout",
     "output_type": "stream",
     "text": [
      "train: 8493, valid: 2831, test: 2265\n"
     ]
    }
   ],
   "source": [
    "print(f'train: {train_data.shape[0]}, valid: {valid_data.shape[0]}, test: {test_data.shape[0]}')"
   ]
  },
  {
   "cell_type": "markdown",
   "metadata": {},
   "source": [
    "# Preprocessing for training"
   ]
  },
  {
   "cell_type": "markdown",
   "metadata": {},
   "source": [
    "## Separating categorical and numeric cols"
   ]
  },
  {
   "cell_type": "code",
   "execution_count": 41,
   "metadata": {},
   "outputs": [],
   "source": [
    "categorical_cols = [col for col in train_data.columns if\n",
    "                    train_data[col].nunique() < 20 and \n",
    "                    train_data[col].dtype == \"object\"]"
   ]
  },
  {
   "cell_type": "code",
   "execution_count": 42,
   "metadata": {},
   "outputs": [
    {
     "data": {
      "text/plain": [
       "24"
      ]
     },
     "execution_count": 42,
     "metadata": {},
     "output_type": "execute_result"
    }
   ],
   "source": [
    "len(categorical_cols)"
   ]
  },
  {
   "cell_type": "code",
   "execution_count": 43,
   "metadata": {},
   "outputs": [
    {
     "data": {
      "text/plain": [
       "['Commercial',\n",
       " 'Approved Authority Name',\n",
       " 'Electricity Status',\n",
       " 'Maintenance Type',\n",
       " 'Unit of Carpet Area',\n",
       " 'Society',\n",
       " 'Ownership Type',\n",
       " 'furnished Type',\n",
       " 'Facing',\n",
       " 'Amenities Facing',\n",
       " 'Transaction Type',\n",
       " 'Type of Property',\n",
       " 'City',\n",
       " 'Data Referred From',\n",
       " 'Water Status',\n",
       " 'Luxury Flat',\n",
       " 'Carpet Area Unit',\n",
       " 'isPrimeLocationProperty',\n",
       " 'Tenants Preference',\n",
       " 'Property',\n",
       " 'covArea Unit',\n",
       " 'Property Lifespan',\n",
       " 'Rera',\n",
       " 'City Location']"
      ]
     },
     "execution_count": 43,
     "metadata": {},
     "output_type": "execute_result"
    }
   ],
   "source": [
    "categorical_cols"
   ]
  },
  {
   "cell_type": "code",
   "execution_count": 44,
   "metadata": {},
   "outputs": [],
   "source": [
    "numerical_cols = [col for col in train_data.columns if \n",
    "                train_data[col].dtype in ['int64', 'float64']]"
   ]
  },
  {
   "cell_type": "code",
   "execution_count": 45,
   "metadata": {},
   "outputs": [
    {
     "data": {
      "text/plain": [
       "101"
      ]
     },
     "execution_count": 45,
     "metadata": {},
     "output_type": "execute_result"
    }
   ],
   "source": [
    "len(numerical_cols)"
   ]
  },
  {
   "cell_type": "code",
   "execution_count": 46,
   "metadata": {},
   "outputs": [],
   "source": [
    "my_cols = categorical_cols+numerical_cols\n",
    "train = train_data[my_cols].copy()\n",
    "valid = valid_data[my_cols].copy()\n",
    "test = test_data[my_cols].copy()"
   ]
  },
  {
   "cell_type": "code",
   "execution_count": 47,
   "metadata": {},
   "outputs": [
    {
     "data": {
      "text/html": [
       "<div>\n",
       "<style scoped>\n",
       "    .dataframe tbody tr th:only-of-type {\n",
       "        vertical-align: middle;\n",
       "    }\n",
       "\n",
       "    .dataframe tbody tr th {\n",
       "        vertical-align: top;\n",
       "    }\n",
       "\n",
       "    .dataframe thead th {\n",
       "        text-align: right;\n",
       "    }\n",
       "</style>\n",
       "<table border=\"1\" class=\"dataframe\">\n",
       "  <thead>\n",
       "    <tr style=\"text-align: right;\">\n",
       "      <th></th>\n",
       "      <th>Commercial</th>\n",
       "      <th>Approved Authority Name</th>\n",
       "      <th>Electricity Status</th>\n",
       "      <th>Maintenance Type</th>\n",
       "      <th>Unit of Carpet Area</th>\n",
       "      <th>Society</th>\n",
       "      <th>Ownership Type</th>\n",
       "      <th>furnished Type</th>\n",
       "      <th>Facing</th>\n",
       "      <th>Amenities Facing</th>\n",
       "      <th>...</th>\n",
       "      <th>Kids Play Pool With Water Slides</th>\n",
       "      <th>Library And Business Centre</th>\n",
       "      <th>Meditation Area</th>\n",
       "      <th>Multipurpose Courts</th>\n",
       "      <th>Recreational Pool</th>\n",
       "      <th>Rentable CommuniPfty Space</th>\n",
       "      <th>Retail Boulevard (Retail Shops)</th>\n",
       "      <th>Cycling &amp; Jogging Track</th>\n",
       "      <th>Fire Fighting Equipment</th>\n",
       "      <th>Aesthetically designed landscape garden</th>\n",
       "    </tr>\n",
       "  </thead>\n",
       "  <tbody>\n",
       "    <tr>\n",
       "      <th>10282</th>\n",
       "      <td>N</td>\n",
       "      <td>NaN</td>\n",
       "      <td>No/Rare Powercut</td>\n",
       "      <td>NaN</td>\n",
       "      <td>Sq-ft</td>\n",
       "      <td>Y</td>\n",
       "      <td>Leasehold</td>\n",
       "      <td>Semi-Furnished</td>\n",
       "      <td>North - East</td>\n",
       "      <td>Garden/Park, Pool, Main Road</td>\n",
       "      <td>...</td>\n",
       "      <td>0</td>\n",
       "      <td>0</td>\n",
       "      <td>0</td>\n",
       "      <td>0</td>\n",
       "      <td>0</td>\n",
       "      <td>0</td>\n",
       "      <td>0</td>\n",
       "      <td>0</td>\n",
       "      <td>0</td>\n",
       "      <td>0</td>\n",
       "    </tr>\n",
       "    <tr>\n",
       "      <th>10640</th>\n",
       "      <td>N</td>\n",
       "      <td>NaN</td>\n",
       "      <td>No/Rare Powercut</td>\n",
       "      <td>NaN</td>\n",
       "      <td>Sq-ft</td>\n",
       "      <td>N</td>\n",
       "      <td>Freehold</td>\n",
       "      <td>Furnished</td>\n",
       "      <td>East</td>\n",
       "      <td>Garden/Park</td>\n",
       "      <td>...</td>\n",
       "      <td>0</td>\n",
       "      <td>0</td>\n",
       "      <td>0</td>\n",
       "      <td>0</td>\n",
       "      <td>0</td>\n",
       "      <td>0</td>\n",
       "      <td>0</td>\n",
       "      <td>0</td>\n",
       "      <td>0</td>\n",
       "      <td>0</td>\n",
       "    </tr>\n",
       "    <tr>\n",
       "      <th>3496</th>\n",
       "      <td>N</td>\n",
       "      <td>NaN</td>\n",
       "      <td>NaN</td>\n",
       "      <td>NaN</td>\n",
       "      <td>Sq-ft</td>\n",
       "      <td>N</td>\n",
       "      <td>NaN</td>\n",
       "      <td>Furnished</td>\n",
       "      <td>NaN</td>\n",
       "      <td>NaN</td>\n",
       "      <td>...</td>\n",
       "      <td>0</td>\n",
       "      <td>0</td>\n",
       "      <td>0</td>\n",
       "      <td>0</td>\n",
       "      <td>0</td>\n",
       "      <td>0</td>\n",
       "      <td>0</td>\n",
       "      <td>0</td>\n",
       "      <td>0</td>\n",
       "      <td>0</td>\n",
       "    </tr>\n",
       "    <tr>\n",
       "      <th>1251</th>\n",
       "      <td>N</td>\n",
       "      <td>KDMC</td>\n",
       "      <td>NaN</td>\n",
       "      <td>NaN</td>\n",
       "      <td>Sq-ft</td>\n",
       "      <td>N</td>\n",
       "      <td>Co-operative Society</td>\n",
       "      <td>Unfurnished</td>\n",
       "      <td>North - East</td>\n",
       "      <td>Main Road</td>\n",
       "      <td>...</td>\n",
       "      <td>1</td>\n",
       "      <td>1</td>\n",
       "      <td>1</td>\n",
       "      <td>1</td>\n",
       "      <td>1</td>\n",
       "      <td>1</td>\n",
       "      <td>1</td>\n",
       "      <td>1</td>\n",
       "      <td>1</td>\n",
       "      <td>1</td>\n",
       "    </tr>\n",
       "    <tr>\n",
       "      <th>12178</th>\n",
       "      <td>N</td>\n",
       "      <td>NaN</td>\n",
       "      <td>NaN</td>\n",
       "      <td>NaN</td>\n",
       "      <td>Sq-ft</td>\n",
       "      <td>N</td>\n",
       "      <td>NaN</td>\n",
       "      <td>Unfurnished</td>\n",
       "      <td>NaN</td>\n",
       "      <td>NaN</td>\n",
       "      <td>...</td>\n",
       "      <td>0</td>\n",
       "      <td>0</td>\n",
       "      <td>0</td>\n",
       "      <td>0</td>\n",
       "      <td>0</td>\n",
       "      <td>0</td>\n",
       "      <td>0</td>\n",
       "      <td>0</td>\n",
       "      <td>0</td>\n",
       "      <td>0</td>\n",
       "    </tr>\n",
       "  </tbody>\n",
       "</table>\n",
       "<p>5 rows × 125 columns</p>\n",
       "</div>"
      ],
      "text/plain": [
       "      Commercial Approved Authority Name Electricity Status Maintenance Type  \\\n",
       "10282          N                     NaN   No/Rare Powercut              NaN   \n",
       "10640          N                     NaN   No/Rare Powercut              NaN   \n",
       "3496           N                     NaN                NaN              NaN   \n",
       "1251           N                    KDMC                NaN              NaN   \n",
       "12178          N                     NaN                NaN              NaN   \n",
       "\n",
       "      Unit of Carpet Area Society        Ownership Type  furnished Type  \\\n",
       "10282               Sq-ft       Y             Leasehold  Semi-Furnished   \n",
       "10640               Sq-ft       N              Freehold       Furnished   \n",
       "3496                Sq-ft       N                   NaN       Furnished   \n",
       "1251                Sq-ft       N  Co-operative Society     Unfurnished   \n",
       "12178               Sq-ft       N                   NaN     Unfurnished   \n",
       "\n",
       "             Facing              Amenities Facing  ...  \\\n",
       "10282  North - East  Garden/Park, Pool, Main Road  ...   \n",
       "10640          East                   Garden/Park  ...   \n",
       "3496            NaN                           NaN  ...   \n",
       "1251   North - East                     Main Road  ...   \n",
       "12178           NaN                           NaN  ...   \n",
       "\n",
       "      Kids Play Pool With Water Slides Library And Business Centre  \\\n",
       "10282                                0                           0   \n",
       "10640                                0                           0   \n",
       "3496                                 0                           0   \n",
       "1251                                 1                           1   \n",
       "12178                                0                           0   \n",
       "\n",
       "      Meditation Area Multipurpose Courts Recreational Pool  \\\n",
       "10282               0                   0                 0   \n",
       "10640               0                   0                 0   \n",
       "3496                0                   0                 0   \n",
       "1251                1                   1                 1   \n",
       "12178               0                   0                 0   \n",
       "\n",
       "      Rentable CommuniPfty Space Retail Boulevard (Retail Shops)  \\\n",
       "10282                          0                               0   \n",
       "10640                          0                               0   \n",
       "3496                           0                               0   \n",
       "1251                           1                               1   \n",
       "12178                          0                               0   \n",
       "\n",
       "      Cycling & Jogging Track Fire Fighting Equipment  \\\n",
       "10282                       0                       0   \n",
       "10640                       0                       0   \n",
       "3496                        0                       0   \n",
       "1251                        1                       1   \n",
       "12178                       0                       0   \n",
       "\n",
       "      Aesthetically designed landscape garden  \n",
       "10282                                       0  \n",
       "10640                                       0  \n",
       "3496                                        0  \n",
       "1251                                        1  \n",
       "12178                                       0  \n",
       "\n",
       "[5 rows x 125 columns]"
      ]
     },
     "execution_count": 47,
     "metadata": {},
     "output_type": "execute_result"
    }
   ],
   "source": [
    "train.head()"
   ]
  },
  {
   "cell_type": "code",
   "execution_count": 48,
   "metadata": {},
   "outputs": [
    {
     "data": {
      "text/plain": [
       "['Commercial',\n",
       " 'Approved Authority Name',\n",
       " 'Electricity Status',\n",
       " 'Maintenance Type',\n",
       " 'Unit of Carpet Area',\n",
       " 'Society',\n",
       " 'Ownership Type',\n",
       " 'furnished Type',\n",
       " 'Facing',\n",
       " 'Amenities Facing',\n",
       " 'Transaction Type',\n",
       " 'Type of Property',\n",
       " 'City',\n",
       " 'Data Referred From',\n",
       " 'Water Status',\n",
       " 'Luxury Flat',\n",
       " 'Carpet Area Unit',\n",
       " 'isPrimeLocationProperty',\n",
       " 'Tenants Preference',\n",
       " 'Property',\n",
       " 'covArea Unit',\n",
       " 'Property Lifespan',\n",
       " 'Rera',\n",
       " 'City Location',\n",
       " 'ID',\n",
       " 'Units Available',\n",
       " 'Maintenance Charges',\n",
       " 'Booking Amount',\n",
       " 'Covered Area',\n",
       " 'Carpet Area',\n",
       " 'Bathroom',\n",
       " 'bedroom',\n",
       " 'floors',\n",
       " 'isLuxuryServiceProvided',\n",
       " 'balconies',\n",
       " 'Power Back Up',\n",
       " 'Lift',\n",
       " 'Rain Water Harvesting',\n",
       " 'Club House',\n",
       " 'Swimming Pool',\n",
       " 'Gymnasium',\n",
       " 'Park',\n",
       " 'Parking.1',\n",
       " 'Security',\n",
       " 'Water Storage',\n",
       " 'Private Terrace/Garden',\n",
       " 'Vaastu Compliant',\n",
       " 'Service/Goods Lift',\n",
       " 'Air Conditioned',\n",
       " 'Visitor Parking',\n",
       " 'Intercom Facility',\n",
       " 'Maintenance Staff',\n",
       " 'Waste Disposal',\n",
       " 'Laundry Service',\n",
       " 'Internet/Wi-Fi Connectivity',\n",
       " 'DTH Television Facility',\n",
       " 'RO Water System',\n",
       " 'Banquet Hall',\n",
       " 'Bar/Lounge',\n",
       " 'Cafeteria/Food Court',\n",
       " 'Conference Room',\n",
       " 'Piped Gas',\n",
       " 'Jogging and Strolling Track',\n",
       " 'Outdoor Tennis Courts',\n",
       " 'Mansion',\n",
       " 'Downtown',\n",
       " 'Skyline View',\n",
       " 'Wrap Around Balcony',\n",
       " 'Island Kitchen Layout',\n",
       " 'Full Glass Wall',\n",
       " 'House help accommodation',\n",
       " 'Concierge Services',\n",
       " 'Garden View',\n",
       " 'Marble flooring',\n",
       " 'Well Furnished',\n",
       " 'Modular Kitchen',\n",
       " 'Helipad',\n",
       " 'Private pool ',\n",
       " 'Private Jaccuzi',\n",
       " 'Mini Cinema Theatre',\n",
       " 'Golf Course',\n",
       " 'Infinity Swimming Pool',\n",
       " 'Pool with temperature control ',\n",
       " 'Sea facing',\n",
       " 'Skydeck',\n",
       " 'Earth quake resistant',\n",
       " 'Theme based Architectures',\n",
       " 'Health club with Steam / Jaccuzi',\n",
       " 'Large Clubhouse ',\n",
       " 'Large Open space',\n",
       " 'Fingerprint Access',\n",
       " 'Grand Entrance lobby',\n",
       " 'Private Garage',\n",
       " 'Fireplace',\n",
       " 'Wine Cellar',\n",
       " 'Sky Villa',\n",
       " 'Water Front',\n",
       " 'Hilltop',\n",
       " 'Smart Home',\n",
       " 'Barbeque space',\n",
       " 'Kids play area',\n",
       " 'Library',\n",
       " 'Puja Room',\n",
       " 'Study',\n",
       " 'Servant Room',\n",
       " 'Store',\n",
       " 'Aerobics Room',\n",
       " 'Canopy Walk',\n",
       " 'Coffee Lounge & Restaurants',\n",
       " 'Dance Studio',\n",
       " 'Event Space & Amphitheatre',\n",
       " 'Flower Gardens',\n",
       " 'Guest Accommodation',\n",
       " 'Indoor Squash & Badminton Courts',\n",
       " 'Kids Play Area',\n",
       " 'Kids Play Pool With Water Slides',\n",
       " 'Library And Business Centre',\n",
       " 'Meditation Area',\n",
       " 'Multipurpose Courts',\n",
       " 'Recreational Pool',\n",
       " 'Rentable CommuniPfty Space',\n",
       " 'Retail Boulevard (Retail Shops)',\n",
       " 'Cycling & Jogging Track',\n",
       " 'Fire Fighting Equipment',\n",
       " 'Aesthetically designed landscape garden']"
      ]
     },
     "execution_count": 48,
     "metadata": {},
     "output_type": "execute_result"
    }
   ],
   "source": [
    "list(train.columns)"
   ]
  },
  {
   "cell_type": "code",
   "execution_count": 133,
   "metadata": {},
   "outputs": [
    {
     "name": "stdout",
     "output_type": "stream",
     "text": [
      "MAE: 2976.6189672962496\n"
     ]
    }
   ],
   "source": [
    "from sklearn.experimental import enable_iterative_imputer\n",
    "from sklearn.compose import ColumnTransformer\n",
    "from sklearn.pipeline import Pipeline\n",
    "from sklearn.impute import SimpleImputer, IterativeImputer\n",
    "from sklearn.preprocessing import OneHotEncoder\n",
    "from sklearn.ensemble import RandomForestRegressor\n",
    "from sklearn.metrics import mean_absolute_error\n",
    "\n",
    "numerical_transformer = SimpleImputer(strategy='constant')\n",
    "# numerical_transformer = IterativeImputer(random_state=0)\n",
    "\n",
    "\n",
    "categorical_transformer = Pipeline(steps=[\n",
    "    ('imputer', SimpleImputer(strategy='most_frequent')),\n",
    "    ('onehot', OneHotEncoder(handle_unknown='ignore'))\n",
    "])\n",
    "\n",
    "preprocessor = ColumnTransformer(\n",
    "    transformers=[\n",
    "        ('num', numerical_transformer, numerical_cols),\n",
    "        ('cat', categorical_transformer, categorical_cols)\n",
    "    ])\n",
    "\n",
    "model = RandomForestRegressor(n_estimators=500, random_state=0)\n",
    "\n",
    "my_pipeline = Pipeline(steps=[('preprocessor', preprocessor),\n",
    "                      ('model', model)\n",
    "                     ])\n",
    "\n",
    "my_pipeline.fit(train, y_train)\n",
    "\n",
    "preds = my_pipeline.predict(valid)\n",
    "\n",
    "print('MAE:', mean_absolute_error(y_valid, preds)) \n"
   ]
  },
  {
   "cell_type": "code",
   "execution_count": 134,
   "metadata": {},
   "outputs": [
    {
     "data": {
      "text/plain": [
       "['random_forest_model.pkl']"
      ]
     },
     "execution_count": 134,
     "metadata": {},
     "output_type": "execute_result"
    }
   ],
   "source": [
    "import joblib\n",
    "joblib.dump(my_pipeline, 'model/random_forest_model.pkl')"
   ]
  },
  {
   "cell_type": "markdown",
   "metadata": {},
   "source": [
    "# testing"
   ]
  },
  {
   "cell_type": "markdown",
   "metadata": {},
   "source": []
  },
  {
   "cell_type": "code",
   "execution_count": 135,
   "metadata": {},
   "outputs": [
    {
     "name": "stdout",
     "output_type": "stream",
     "text": [
      "MAE: 3016.3609772459185\n"
     ]
    }
   ],
   "source": [
    "preds = my_pipeline.predict(test)\n",
    "\n",
    "print('MAE:', mean_absolute_error(y_test, preds))\n"
   ]
  },
  {
   "cell_type": "markdown",
   "metadata": {},
   "source": [
    "# LLM"
   ]
  },
  {
   "cell_type": "code",
   "execution_count": 177,
   "metadata": {},
   "outputs": [],
   "source": [
    "submission_columns = train_data.columns"
   ]
  },
  {
   "cell_type": "code",
   "execution_count": 193,
   "metadata": {},
   "outputs": [
    {
     "data": {
      "text/plain": [
       "[{'name': 'predict_price',\n",
       "  'args': {'city': 'Mumbai', 'area': 132, 'private_pool': True},\n",
       "  'id': 'call_F2k4ZZxC1gHRv6bdNiRn4m4a'}]"
      ]
     },
     "execution_count": 193,
     "metadata": {},
     "output_type": "execute_result"
    }
   ],
   "source": [
    "import numpy as np\n",
    "import pandas as pd\n",
    "import joblib\n",
    "from langchain_core.tools import tool\n",
    "from langchain_openai import ChatOpenAI\n",
    "\n",
    "rf_model = joblib.load(\"random_forest_model.pkl\")\n",
    "\n",
    "@tool\n",
    "def predict_price(city: str, area: int, private_pool: bool) -> str:\n",
    "    \"\"\"Outputs the predicted price of an apartment, given the apartment city location, area in square meters and if it has a pool or not. \"\"\"\n",
    "    details = {\n",
    "            \"City\": city,\n",
    "            \"Carpet Area\": area,\n",
    "            \"Private pool \": private_pool \n",
    "    }\n",
    "\n",
    "    df = pd.DataFrame([details])\n",
    "    df['Private pool '] = df['Private pool '].astype(int) \n",
    "    missing_columns = {col: np.nan for col in submission_columns if col not in df.columns}\n",
    "    missing_df = pd.DataFrame(missing_columns, index=df.index)\n",
    "    df = pd.concat([df, missing_df], axis=1)\n",
    "\n",
    "    prediction = rf_model.predict(df)\n",
    "\n",
    "    return f'{prediction[0]} rupees'\n",
    "\n",
    "\n",
    "tools = [predict_price]\n",
    "\n",
    "llm = ChatOpenAI(model=\"gpt-3.5-turbo\")\n",
    "llm_with_tools = llm.bind_tools(tools)\n",
    "\n",
    "query = \"Can you predict the value of my apartment in mumbai? My apartment has 132 square meters and it has a pool.\"\n",
    "\n",
    "llm_with_tools.invoke(query).tool_calls\n"
   ]
  },
  {
   "cell_type": "code",
   "execution_count": 194,
   "metadata": {},
   "outputs": [
    {
     "name": "stdout",
     "output_type": "stream",
     "text": [
      "{'agent': {'messages': [AIMessage(content=\"Of course! I'd be happy to help. What do you need assistance with?\", response_metadata={'token_usage': {'completion_tokens': 18, 'prompt_tokens': 82, 'total_tokens': 100}, 'model_name': 'gpt-3.5-turbo', 'system_fingerprint': None, 'finish_reason': 'stop', 'logprobs': None}, id='run-127c0d24-3cc5-4007-9fe5-193ea73f0315-0', usage_metadata={'input_tokens': 82, 'output_tokens': 18, 'total_tokens': 100})]}}\n",
      "----\n"
     ]
    }
   ],
   "source": [
    "from langchain_core.messages import HumanMessage\n",
    "from langgraph.checkpoint.sqlite import SqliteSaver\n",
    "from langgraph.prebuilt import create_react_agent\n",
    "\n",
    "\n",
    "# Creating Agent\n",
    "memory = SqliteSaver.from_conn_string(\":memory:\")\n",
    "model = ChatOpenAI(model=\"gpt-3.5-turbo\", temperature=0)\n",
    "tools = [predict_price]\n",
    "agent_executor = create_react_agent(model, tools, checkpointer=memory)\n",
    "\n",
    "\n",
    "config = {\"configurable\": {\"thread_id\": \"test001\"}}\n",
    "for chunk in agent_executor.stream(\n",
    "    {\"messages\": [HumanMessage(content=\"Hi there! Can you help me?\")]}, config\n",
    "):\n",
    "    print(chunk)\n",
    "    print(\"----\")"
   ]
  },
  {
   "cell_type": "code",
   "execution_count": 195,
   "metadata": {},
   "outputs": [
    {
     "name": "stdout",
     "output_type": "stream",
     "text": [
      "{'agent': {'messages': [AIMessage(content='', additional_kwargs={'tool_calls': [{'id': 'call_0XV4yzJNQzJTLbEmkYEGpKhY', 'function': {'arguments': '{\"city\":\"Mumbai\",\"area\":132,\"private_pool\":true}', 'name': 'predict_price'}, 'type': 'function'}]}, response_metadata={'token_usage': {'completion_tokens': 24, 'prompt_tokens': 132, 'total_tokens': 156}, 'model_name': 'gpt-3.5-turbo', 'system_fingerprint': None, 'finish_reason': 'tool_calls', 'logprobs': None}, id='run-4944cf57-bf29-4e30-95c2-373429a3ce7d-0', tool_calls=[{'name': 'predict_price', 'args': {'city': 'Mumbai', 'area': 132, 'private_pool': True}, 'id': 'call_0XV4yzJNQzJTLbEmkYEGpKhY'}], usage_metadata={'input_tokens': 132, 'output_tokens': 24, 'total_tokens': 156})]}}\n",
      "----\n",
      "{'tools': {'messages': [ToolMessage(content='263320.0 rupees', name='predict_price', tool_call_id='call_0XV4yzJNQzJTLbEmkYEGpKhY')]}}\n",
      "----\n",
      "{'agent': {'messages': [AIMessage(content='The predicted value of your apartment in Mumbai, with an area of 132 square meters and a private pool, is 263,320 rupees. If you need any more assistance or information, feel free to ask!', response_metadata={'token_usage': {'completion_tokens': 45, 'prompt_tokens': 170, 'total_tokens': 215}, 'model_name': 'gpt-3.5-turbo', 'system_fingerprint': None, 'finish_reason': 'stop', 'logprobs': None}, id='run-673d8442-a383-431c-a3b7-6cb7302156b9-0', usage_metadata={'input_tokens': 170, 'output_tokens': 45, 'total_tokens': 215})]}}\n",
      "----\n"
     ]
    }
   ],
   "source": [
    "for chunk in agent_executor.stream(\n",
    "    {\"messages\": [HumanMessage(content=\"Can you predict the value of my apartment in mumbai? My apartment has 132 square meters and it has a pool.\")]}, config\n",
    "):\n",
    "    print(chunk)\n",
    "    print(\"----\")"
   ]
  },
  {
   "cell_type": "code",
   "execution_count": null,
   "metadata": {},
   "outputs": [],
   "source": []
  },
  {
   "cell_type": "code",
   "execution_count": null,
   "metadata": {},
   "outputs": [],
   "source": []
  }
 ],
 "metadata": {
  "kernelspec": {
   "display_name": "llms2",
   "language": "python",
   "name": "python3"
  },
  "language_info": {
   "codemirror_mode": {
    "name": "ipython",
    "version": 3
   },
   "file_extension": ".py",
   "mimetype": "text/x-python",
   "name": "python",
   "nbconvert_exporter": "python",
   "pygments_lexer": "ipython3",
   "version": "3.10.13"
  }
 },
 "nbformat": 4,
 "nbformat_minor": 2
}
